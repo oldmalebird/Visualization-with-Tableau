{
 "cells": [
  {
   "cell_type": "markdown",
   "metadata": {},
   "source": [
    "## 了解加工摩拜单车数据集"
   ]
  },
  {
   "cell_type": "code",
   "execution_count": 2,
   "metadata": {},
   "outputs": [],
   "source": [
    "import pandas as pd\n",
    "import numpy as np"
   ]
  },
  {
   "cell_type": "code",
   "execution_count": 4,
   "metadata": {},
   "outputs": [
    {
     "data": {
      "text/html": [
       "<div>\n",
       "<style scoped>\n",
       "    .dataframe tbody tr th:only-of-type {\n",
       "        vertical-align: middle;\n",
       "    }\n",
       "\n",
       "    .dataframe tbody tr th {\n",
       "        vertical-align: top;\n",
       "    }\n",
       "\n",
       "    .dataframe thead th {\n",
       "        text-align: right;\n",
       "    }\n",
       "</style>\n",
       "<table border=\"1\" class=\"dataframe\">\n",
       "  <thead>\n",
       "    <tr style=\"text-align: right;\">\n",
       "      <th></th>\n",
       "      <th>orderid</th>\n",
       "      <th>bikeid</th>\n",
       "      <th>userid</th>\n",
       "      <th>start_time</th>\n",
       "      <th>start_location_x</th>\n",
       "      <th>start_location_y</th>\n",
       "      <th>end_time</th>\n",
       "      <th>end_location_x</th>\n",
       "      <th>end_location_y</th>\n",
       "      <th>track</th>\n",
       "    </tr>\n",
       "  </thead>\n",
       "  <tbody>\n",
       "    <tr>\n",
       "      <th>0</th>\n",
       "      <td>78387</td>\n",
       "      <td>158357</td>\n",
       "      <td>10080</td>\n",
       "      <td>2016-08-20 06:57</td>\n",
       "      <td>121.348</td>\n",
       "      <td>31.389</td>\n",
       "      <td>2016-08-20 07:04</td>\n",
       "      <td>121.357</td>\n",
       "      <td>31.388</td>\n",
       "      <td>121.347,31.392#121.348,31.389#121.349,31.390#1...</td>\n",
       "    </tr>\n",
       "    <tr>\n",
       "      <th>1</th>\n",
       "      <td>891333</td>\n",
       "      <td>92776</td>\n",
       "      <td>6605</td>\n",
       "      <td>2016-08-29 19:09</td>\n",
       "      <td>121.508</td>\n",
       "      <td>31.279</td>\n",
       "      <td>2016-08-29 19:31</td>\n",
       "      <td>121.489</td>\n",
       "      <td>31.271</td>\n",
       "      <td>121.489,31.270#121.489,31.271#121.490,31.270#1...</td>\n",
       "    </tr>\n",
       "    <tr>\n",
       "      <th>2</th>\n",
       "      <td>1106623</td>\n",
       "      <td>152045</td>\n",
       "      <td>8876</td>\n",
       "      <td>2016-08-13 16:17</td>\n",
       "      <td>121.383</td>\n",
       "      <td>31.254</td>\n",
       "      <td>2016-08-13 16:36</td>\n",
       "      <td>121.405</td>\n",
       "      <td>31.248</td>\n",
       "      <td>121.381,31.251#121.382,31.251#121.382,31.252#1...</td>\n",
       "    </tr>\n",
       "    <tr>\n",
       "      <th>3</th>\n",
       "      <td>1389484</td>\n",
       "      <td>196259</td>\n",
       "      <td>10648</td>\n",
       "      <td>2016-08-23 21:34</td>\n",
       "      <td>121.484</td>\n",
       "      <td>31.320</td>\n",
       "      <td>2016-08-23 21:43</td>\n",
       "      <td>121.471</td>\n",
       "      <td>31.325</td>\n",
       "      <td>121.471,31.325#121.472,31.325#121.473,31.324#1...</td>\n",
       "    </tr>\n",
       "    <tr>\n",
       "      <th>4</th>\n",
       "      <td>188537</td>\n",
       "      <td>78208</td>\n",
       "      <td>11735</td>\n",
       "      <td>2016-08-16 07:32</td>\n",
       "      <td>121.407</td>\n",
       "      <td>31.292</td>\n",
       "      <td>2016-08-16 07:41</td>\n",
       "      <td>121.418</td>\n",
       "      <td>31.288</td>\n",
       "      <td>121.407,31.291#121.407,31.292#121.408,31.291#1...</td>\n",
       "    </tr>\n",
       "  </tbody>\n",
       "</table>\n",
       "</div>"
      ],
      "text/plain": [
       "   orderid  bikeid  userid        start_time  start_location_x  \\\n",
       "0    78387  158357   10080  2016-08-20 06:57           121.348   \n",
       "1   891333   92776    6605  2016-08-29 19:09           121.508   \n",
       "2  1106623  152045    8876  2016-08-13 16:17           121.383   \n",
       "3  1389484  196259   10648  2016-08-23 21:34           121.484   \n",
       "4   188537   78208   11735  2016-08-16 07:32           121.407   \n",
       "\n",
       "   start_location_y          end_time  end_location_x  end_location_y  \\\n",
       "0            31.389  2016-08-20 07:04         121.357          31.388   \n",
       "1            31.279  2016-08-29 19:31         121.489          31.271   \n",
       "2            31.254  2016-08-13 16:36         121.405          31.248   \n",
       "3            31.320  2016-08-23 21:43         121.471          31.325   \n",
       "4            31.292  2016-08-16 07:41         121.418          31.288   \n",
       "\n",
       "                                               track  \n",
       "0  121.347,31.392#121.348,31.389#121.349,31.390#1...  \n",
       "1  121.489,31.270#121.489,31.271#121.490,31.270#1...  \n",
       "2  121.381,31.251#121.382,31.251#121.382,31.252#1...  \n",
       "3  121.471,31.325#121.472,31.325#121.473,31.324#1...  \n",
       "4  121.407,31.291#121.407,31.292#121.408,31.291#1...  "
      ]
     },
     "execution_count": 4,
     "metadata": {},
     "output_type": "execute_result"
    }
   ],
   "source": [
    "docAddress = r\"D:\\Github\\Visualization-with-Tableau\\Mobike Data\\mobike_shanghai_sample_updated.csv\"\n",
    "df = pd.read_csv(docAddress)"
   ]
  },
  {
   "cell_type": "code",
   "execution_count": 6,
   "metadata": {},
   "outputs": [
    {
     "data": {
      "text/html": [
       "<div>\n",
       "<style scoped>\n",
       "    .dataframe tbody tr th:only-of-type {\n",
       "        vertical-align: middle;\n",
       "    }\n",
       "\n",
       "    .dataframe tbody tr th {\n",
       "        vertical-align: top;\n",
       "    }\n",
       "\n",
       "    .dataframe thead th {\n",
       "        text-align: right;\n",
       "    }\n",
       "</style>\n",
       "<table border=\"1\" class=\"dataframe\">\n",
       "  <thead>\n",
       "    <tr style=\"text-align: right;\">\n",
       "      <th></th>\n",
       "      <th>orderid</th>\n",
       "      <th>bikeid</th>\n",
       "      <th>userid</th>\n",
       "      <th>start_time</th>\n",
       "      <th>start_location_x</th>\n",
       "      <th>start_location_y</th>\n",
       "      <th>end_time</th>\n",
       "      <th>end_location_x</th>\n",
       "      <th>end_location_y</th>\n",
       "      <th>track</th>\n",
       "    </tr>\n",
       "  </thead>\n",
       "  <tbody>\n",
       "    <tr>\n",
       "      <th>0</th>\n",
       "      <td>78387</td>\n",
       "      <td>158357</td>\n",
       "      <td>10080</td>\n",
       "      <td>2016-08-20 06:57</td>\n",
       "      <td>121.348</td>\n",
       "      <td>31.389</td>\n",
       "      <td>2016-08-20 07:04</td>\n",
       "      <td>121.357</td>\n",
       "      <td>31.388</td>\n",
       "      <td>121.347,31.392#121.348,31.389#121.349,31.390#1...</td>\n",
       "    </tr>\n",
       "    <tr>\n",
       "      <th>1</th>\n",
       "      <td>891333</td>\n",
       "      <td>92776</td>\n",
       "      <td>6605</td>\n",
       "      <td>2016-08-29 19:09</td>\n",
       "      <td>121.508</td>\n",
       "      <td>31.279</td>\n",
       "      <td>2016-08-29 19:31</td>\n",
       "      <td>121.489</td>\n",
       "      <td>31.271</td>\n",
       "      <td>121.489,31.270#121.489,31.271#121.490,31.270#1...</td>\n",
       "    </tr>\n",
       "    <tr>\n",
       "      <th>2</th>\n",
       "      <td>1106623</td>\n",
       "      <td>152045</td>\n",
       "      <td>8876</td>\n",
       "      <td>2016-08-13 16:17</td>\n",
       "      <td>121.383</td>\n",
       "      <td>31.254</td>\n",
       "      <td>2016-08-13 16:36</td>\n",
       "      <td>121.405</td>\n",
       "      <td>31.248</td>\n",
       "      <td>121.381,31.251#121.382,31.251#121.382,31.252#1...</td>\n",
       "    </tr>\n",
       "    <tr>\n",
       "      <th>3</th>\n",
       "      <td>1389484</td>\n",
       "      <td>196259</td>\n",
       "      <td>10648</td>\n",
       "      <td>2016-08-23 21:34</td>\n",
       "      <td>121.484</td>\n",
       "      <td>31.320</td>\n",
       "      <td>2016-08-23 21:43</td>\n",
       "      <td>121.471</td>\n",
       "      <td>31.325</td>\n",
       "      <td>121.471,31.325#121.472,31.325#121.473,31.324#1...</td>\n",
       "    </tr>\n",
       "    <tr>\n",
       "      <th>4</th>\n",
       "      <td>188537</td>\n",
       "      <td>78208</td>\n",
       "      <td>11735</td>\n",
       "      <td>2016-08-16 07:32</td>\n",
       "      <td>121.407</td>\n",
       "      <td>31.292</td>\n",
       "      <td>2016-08-16 07:41</td>\n",
       "      <td>121.418</td>\n",
       "      <td>31.288</td>\n",
       "      <td>121.407,31.291#121.407,31.292#121.408,31.291#1...</td>\n",
       "    </tr>\n",
       "  </tbody>\n",
       "</table>\n",
       "</div>"
      ],
      "text/plain": [
       "   orderid  bikeid  userid        start_time  start_location_x  \\\n",
       "0    78387  158357   10080  2016-08-20 06:57           121.348   \n",
       "1   891333   92776    6605  2016-08-29 19:09           121.508   \n",
       "2  1106623  152045    8876  2016-08-13 16:17           121.383   \n",
       "3  1389484  196259   10648  2016-08-23 21:34           121.484   \n",
       "4   188537   78208   11735  2016-08-16 07:32           121.407   \n",
       "\n",
       "   start_location_y          end_time  end_location_x  end_location_y  \\\n",
       "0            31.389  2016-08-20 07:04         121.357          31.388   \n",
       "1            31.279  2016-08-29 19:31         121.489          31.271   \n",
       "2            31.254  2016-08-13 16:36         121.405          31.248   \n",
       "3            31.320  2016-08-23 21:43         121.471          31.325   \n",
       "4            31.292  2016-08-16 07:41         121.418          31.288   \n",
       "\n",
       "                                               track  \n",
       "0  121.347,31.392#121.348,31.389#121.349,31.390#1...  \n",
       "1  121.489,31.270#121.489,31.271#121.490,31.270#1...  \n",
       "2  121.381,31.251#121.382,31.251#121.382,31.252#1...  \n",
       "3  121.471,31.325#121.472,31.325#121.473,31.324#1...  \n",
       "4  121.407,31.291#121.407,31.292#121.408,31.291#1...  "
      ]
     },
     "execution_count": 6,
     "metadata": {},
     "output_type": "execute_result"
    }
   ],
   "source": [
    "df.head()"
   ]
  },
  {
   "cell_type": "code",
   "execution_count": 7,
   "metadata": {},
   "outputs": [
    {
     "data": {
      "text/plain": [
       "(102361, 10)"
      ]
     },
     "execution_count": 7,
     "metadata": {},
     "output_type": "execute_result"
    }
   ],
   "source": [
    "df.shape"
   ]
  },
  {
   "cell_type": "code",
   "execution_count": 9,
   "metadata": {},
   "outputs": [
    {
     "name": "stdout",
     "output_type": "stream",
     "text": [
      "<class 'pandas.core.frame.DataFrame'>\n",
      "RangeIndex: 102361 entries, 0 to 102360\n",
      "Data columns (total 10 columns):\n",
      "orderid             102361 non-null int64\n",
      "bikeid              102361 non-null int64\n",
      "userid              102361 non-null int64\n",
      "start_time          102361 non-null object\n",
      "start_location_x    102361 non-null float64\n",
      "start_location_y    102361 non-null float64\n",
      "end_time            102361 non-null object\n",
      "end_location_x      102361 non-null float64\n",
      "end_location_y      102361 non-null float64\n",
      "track               102361 non-null object\n",
      "dtypes: float64(4), int64(3), object(3)\n",
      "memory usage: 7.8+ MB\n"
     ]
    }
   ],
   "source": [
    "df.info()"
   ]
  },
  {
   "cell_type": "code",
   "execution_count": 12,
   "metadata": {},
   "outputs": [
    {
     "data": {
      "text/html": [
       "<div>\n",
       "<style scoped>\n",
       "    .dataframe tbody tr th:only-of-type {\n",
       "        vertical-align: middle;\n",
       "    }\n",
       "\n",
       "    .dataframe tbody tr th {\n",
       "        vertical-align: top;\n",
       "    }\n",
       "\n",
       "    .dataframe thead th {\n",
       "        text-align: right;\n",
       "    }\n",
       "</style>\n",
       "<table border=\"1\" class=\"dataframe\">\n",
       "  <thead>\n",
       "    <tr style=\"text-align: right;\">\n",
       "      <th></th>\n",
       "      <th>orderid</th>\n",
       "      <th>bikeid</th>\n",
       "      <th>userid</th>\n",
       "      <th>start_location_x</th>\n",
       "      <th>start_location_y</th>\n",
       "      <th>end_location_x</th>\n",
       "      <th>end_location_y</th>\n",
       "    </tr>\n",
       "  </thead>\n",
       "  <tbody>\n",
       "    <tr>\n",
       "      <th>count</th>\n",
       "      <td>1.023610e+05</td>\n",
       "      <td>102361.000000</td>\n",
       "      <td>102361.000000</td>\n",
       "      <td>102361.000000</td>\n",
       "      <td>102361.000000</td>\n",
       "      <td>102361.000000</td>\n",
       "      <td>102361.000000</td>\n",
       "    </tr>\n",
       "    <tr>\n",
       "      <th>mean</th>\n",
       "      <td>8.940838e+05</td>\n",
       "      <td>155425.868690</td>\n",
       "      <td>7834.435644</td>\n",
       "      <td>121.454144</td>\n",
       "      <td>31.251740</td>\n",
       "      <td>121.453736</td>\n",
       "      <td>31.252029</td>\n",
       "    </tr>\n",
       "    <tr>\n",
       "      <th>std</th>\n",
       "      <td>5.219651e+05</td>\n",
       "      <td>98816.625402</td>\n",
       "      <td>4530.387938</td>\n",
       "      <td>0.060862</td>\n",
       "      <td>0.057358</td>\n",
       "      <td>0.061577</td>\n",
       "      <td>0.057740</td>\n",
       "    </tr>\n",
       "    <tr>\n",
       "      <th>min</th>\n",
       "      <td>6.000000e+00</td>\n",
       "      <td>3.000000</td>\n",
       "      <td>1.000000</td>\n",
       "      <td>121.173000</td>\n",
       "      <td>30.842000</td>\n",
       "      <td>120.486000</td>\n",
       "      <td>30.841000</td>\n",
       "    </tr>\n",
       "    <tr>\n",
       "      <th>25%</th>\n",
       "      <td>4.386790e+05</td>\n",
       "      <td>74701.000000</td>\n",
       "      <td>4095.000000</td>\n",
       "      <td>121.415000</td>\n",
       "      <td>31.212000</td>\n",
       "      <td>121.414000</td>\n",
       "      <td>31.212000</td>\n",
       "    </tr>\n",
       "    <tr>\n",
       "      <th>50%</th>\n",
       "      <td>8.901510e+05</td>\n",
       "      <td>141990.000000</td>\n",
       "      <td>7617.000000</td>\n",
       "      <td>121.456000</td>\n",
       "      <td>31.260000</td>\n",
       "      <td>121.456000</td>\n",
       "      <td>31.261000</td>\n",
       "    </tr>\n",
       "    <tr>\n",
       "      <th>75%</th>\n",
       "      <td>1.343252e+06</td>\n",
       "      <td>228303.000000</td>\n",
       "      <td>11278.000000</td>\n",
       "      <td>121.497000</td>\n",
       "      <td>31.294000</td>\n",
       "      <td>121.497000</td>\n",
       "      <td>31.294000</td>\n",
       "    </tr>\n",
       "    <tr>\n",
       "      <th>max</th>\n",
       "      <td>1.807864e+06</td>\n",
       "      <td>387351.000000</td>\n",
       "      <td>17753.000000</td>\n",
       "      <td>121.970000</td>\n",
       "      <td>31.450000</td>\n",
       "      <td>121.971000</td>\n",
       "      <td>31.477000</td>\n",
       "    </tr>\n",
       "  </tbody>\n",
       "</table>\n",
       "</div>"
      ],
      "text/plain": [
       "            orderid         bikeid         userid  start_location_x  \\\n",
       "count  1.023610e+05  102361.000000  102361.000000     102361.000000   \n",
       "mean   8.940838e+05  155425.868690    7834.435644        121.454144   \n",
       "std    5.219651e+05   98816.625402    4530.387938          0.060862   \n",
       "min    6.000000e+00       3.000000       1.000000        121.173000   \n",
       "25%    4.386790e+05   74701.000000    4095.000000        121.415000   \n",
       "50%    8.901510e+05  141990.000000    7617.000000        121.456000   \n",
       "75%    1.343252e+06  228303.000000   11278.000000        121.497000   \n",
       "max    1.807864e+06  387351.000000   17753.000000        121.970000   \n",
       "\n",
       "       start_location_y  end_location_x  end_location_y  \n",
       "count     102361.000000   102361.000000   102361.000000  \n",
       "mean          31.251740      121.453736       31.252029  \n",
       "std            0.057358        0.061577        0.057740  \n",
       "min           30.842000      120.486000       30.841000  \n",
       "25%           31.212000      121.414000       31.212000  \n",
       "50%           31.260000      121.456000       31.261000  \n",
       "75%           31.294000      121.497000       31.294000  \n",
       "max           31.450000      121.971000       31.477000  "
      ]
     },
     "execution_count": 12,
     "metadata": {},
     "output_type": "execute_result"
    }
   ],
   "source": [
    "df.describe()"
   ]
  },
  {
   "cell_type": "code",
   "execution_count": 13,
   "metadata": {},
   "outputs": [
    {
     "data": {
      "text/plain": [
       "0"
      ]
     },
     "execution_count": 13,
     "metadata": {},
     "output_type": "execute_result"
    }
   ],
   "source": [
    "#检查重复数据\n",
    "sum(df.duplicated())"
   ]
  },
  {
   "cell_type": "markdown",
   "metadata": {},
   "source": [
    "摩拜单车数据集包含102361条数据，10个变量。无缺失值和重复数据，是个比较干净的数据集。"
   ]
  },
  {
   "cell_type": "code",
   "execution_count": 14,
   "metadata": {},
   "outputs": [
    {
     "data": {
      "text/plain": [
       "orderid             102361\n",
       "bikeid               79062\n",
       "userid               16887\n",
       "start_time           30833\n",
       "start_location_x       471\n",
       "start_location_y       430\n",
       "end_time             31297\n",
       "end_location_x         479\n",
       "end_location_y         440\n",
       "track               100117\n",
       "dtype: int64"
      ]
     },
     "execution_count": 14,
     "metadata": {},
     "output_type": "execute_result"
    }
   ],
   "source": [
    "df.nunique()"
   ]
  },
  {
   "cell_type": "markdown",
   "metadata": {},
   "source": [
    "- 102361个订单中有100117个不重复轨迹，2244个重复轨迹是哪些？\n",
    "- 重复轨迹的起始点是否有足够多的单车供使用？"
   ]
  },
  {
   "cell_type": "code",
   "execution_count": 33,
   "metadata": {},
   "outputs": [],
   "source": [
    "df_new = df.copy()"
   ]
  },
  {
   "cell_type": "code",
   "execution_count": 34,
   "metadata": {},
   "outputs": [],
   "source": [
    "#新建一列统计轨迹点的个数\n",
    "df_new['spots'] = df['track'].str.count('#') + 1"
   ]
  },
  {
   "cell_type": "code",
   "execution_count": 35,
   "metadata": {},
   "outputs": [
    {
     "data": {
      "text/plain": [
       "11     4289\n",
       "12     4256\n",
       "10     4123\n",
       "13     4008\n",
       "14     3995\n",
       "9      3924\n",
       "15     3864\n",
       "8      3679\n",
       "16     3504\n",
       "17     3260\n",
       "7      3213\n",
       "18     3080\n",
       "6      2961\n",
       "19     2868\n",
       "20     2613\n",
       "5      2560\n",
       "21     2433\n",
       "22     2155\n",
       "4      2083\n",
       "23     2070\n",
       "24     1985\n",
       "2      1877\n",
       "3      1813\n",
       "25     1678\n",
       "26     1661\n",
       "27     1523\n",
       "28     1409\n",
       "29     1363\n",
       "30     1258\n",
       "31     1178\n",
       "       ... \n",
       "258       1\n",
       "194       1\n",
       "202       1\n",
       "370       1\n",
       "244       1\n",
       "257       1\n",
       "308       1\n",
       "185       1\n",
       "252       1\n",
       "254       1\n",
       "235       1\n",
       "292       1\n",
       "232       1\n",
       "231       1\n",
       "203       1\n",
       "269       1\n",
       "200       1\n",
       "276       1\n",
       "277       1\n",
       "216       1\n",
       "326       1\n",
       "262       1\n",
       "198       1\n",
       "223       1\n",
       "479       1\n",
       "224       1\n",
       "228       1\n",
       "265       1\n",
       "229       1\n",
       "221       1\n",
       "Name: spots, Length: 241, dtype: int64"
      ]
     },
     "execution_count": 35,
     "metadata": {},
     "output_type": "execute_result"
    }
   ],
   "source": [
    "df_new.spots.value_counts()"
   ]
  },
  {
   "cell_type": "code",
   "execution_count": 36,
   "metadata": {},
   "outputs": [
    {
     "data": {
      "text/plain": [
       "85347       2\n",
       "95166       2\n",
       "10600       2\n",
       "73562       2\n",
       "95170       2\n",
       "82925       2\n",
       "17568       2\n",
       "23047       2\n",
       "69593       2\n",
       "60987       2\n",
       "6572        2\n",
       "1253        2\n",
       "19739       2\n",
       "35204       2\n",
       "98993       2\n",
       "28879       2\n",
       "23516       2\n",
       "17575       2\n",
       "65298       2\n",
       "17585       2\n",
       "41461       2\n",
       "10623       2\n",
       "55158       2\n",
       "17586       2\n",
       "25397       2\n",
       "76309       2\n",
       "26298       2\n",
       "35211       2\n",
       "85530       2\n",
       "98036       2\n",
       "         ... \n",
       "41638     223\n",
       "15556     224\n",
       "48234     228\n",
       "16368     229\n",
       "72455     231\n",
       "13235     232\n",
       "27635     234\n",
       "40683     234\n",
       "36102     235\n",
       "60293     239\n",
       "29113     243\n",
       "59010     243\n",
       "75444     244\n",
       "52904     246\n",
       "39081     246\n",
       "58483     252\n",
       "11343     254\n",
       "42231     257\n",
       "81111     258\n",
       "91255     262\n",
       "53375     265\n",
       "100946    269\n",
       "23351     276\n",
       "35232     277\n",
       "8964      292\n",
       "62435     306\n",
       "65610     308\n",
       "81338     326\n",
       "5954      370\n",
       "101327    479\n",
       "Name: spots, Length: 102361, dtype: int64"
      ]
     },
     "execution_count": 36,
     "metadata": {},
     "output_type": "execute_result"
    }
   ],
   "source": [
    "df_new.spots.sort_values()"
   ]
  },
  {
   "cell_type": "markdown",
   "metadata": {},
   "source": [
    "- 路径点只有2个的订单有多少？\n",
    "- 路径点少是因为车坏了，还是因为解决的是最后一公里的问题？\n",
    "- 路径点的数量跟骑行时间的关系是？"
   ]
  },
  {
   "cell_type": "code",
   "execution_count": 37,
   "metadata": {},
   "outputs": [
    {
     "data": {
      "text/html": [
       "<div>\n",
       "<style scoped>\n",
       "    .dataframe tbody tr th:only-of-type {\n",
       "        vertical-align: middle;\n",
       "    }\n",
       "\n",
       "    .dataframe tbody tr th {\n",
       "        vertical-align: top;\n",
       "    }\n",
       "\n",
       "    .dataframe thead th {\n",
       "        text-align: right;\n",
       "    }\n",
       "</style>\n",
       "<table border=\"1\" class=\"dataframe\">\n",
       "  <thead>\n",
       "    <tr style=\"text-align: right;\">\n",
       "      <th></th>\n",
       "      <th>orderid</th>\n",
       "      <th>bikeid</th>\n",
       "      <th>userid</th>\n",
       "      <th>start_time</th>\n",
       "      <th>start_location_x</th>\n",
       "      <th>start_location_y</th>\n",
       "      <th>end_time</th>\n",
       "      <th>end_location_x</th>\n",
       "      <th>end_location_y</th>\n",
       "      <th>track</th>\n",
       "      <th>spots</th>\n",
       "    </tr>\n",
       "  </thead>\n",
       "  <tbody>\n",
       "    <tr>\n",
       "      <th>0</th>\n",
       "      <td>78387</td>\n",
       "      <td>158357</td>\n",
       "      <td>10080</td>\n",
       "      <td>2016-08-20 06:57</td>\n",
       "      <td>121.348</td>\n",
       "      <td>31.389</td>\n",
       "      <td>2016-08-20 07:04</td>\n",
       "      <td>121.357</td>\n",
       "      <td>31.388</td>\n",
       "      <td>121.347,31.392#121.348,31.389#121.349,31.390#1...</td>\n",
       "      <td>16</td>\n",
       "    </tr>\n",
       "    <tr>\n",
       "      <th>1</th>\n",
       "      <td>891333</td>\n",
       "      <td>92776</td>\n",
       "      <td>6605</td>\n",
       "      <td>2016-08-29 19:09</td>\n",
       "      <td>121.508</td>\n",
       "      <td>31.279</td>\n",
       "      <td>2016-08-29 19:31</td>\n",
       "      <td>121.489</td>\n",
       "      <td>31.271</td>\n",
       "      <td>121.489,31.270#121.489,31.271#121.490,31.270#1...</td>\n",
       "      <td>36</td>\n",
       "    </tr>\n",
       "    <tr>\n",
       "      <th>2</th>\n",
       "      <td>1106623</td>\n",
       "      <td>152045</td>\n",
       "      <td>8876</td>\n",
       "      <td>2016-08-13 16:17</td>\n",
       "      <td>121.383</td>\n",
       "      <td>31.254</td>\n",
       "      <td>2016-08-13 16:36</td>\n",
       "      <td>121.405</td>\n",
       "      <td>31.248</td>\n",
       "      <td>121.381,31.251#121.382,31.251#121.382,31.252#1...</td>\n",
       "      <td>41</td>\n",
       "    </tr>\n",
       "    <tr>\n",
       "      <th>3</th>\n",
       "      <td>1389484</td>\n",
       "      <td>196259</td>\n",
       "      <td>10648</td>\n",
       "      <td>2016-08-23 21:34</td>\n",
       "      <td>121.484</td>\n",
       "      <td>31.320</td>\n",
       "      <td>2016-08-23 21:43</td>\n",
       "      <td>121.471</td>\n",
       "      <td>31.325</td>\n",
       "      <td>121.471,31.325#121.472,31.325#121.473,31.324#1...</td>\n",
       "      <td>18</td>\n",
       "    </tr>\n",
       "    <tr>\n",
       "      <th>4</th>\n",
       "      <td>188537</td>\n",
       "      <td>78208</td>\n",
       "      <td>11735</td>\n",
       "      <td>2016-08-16 07:32</td>\n",
       "      <td>121.407</td>\n",
       "      <td>31.292</td>\n",
       "      <td>2016-08-16 07:41</td>\n",
       "      <td>121.418</td>\n",
       "      <td>31.288</td>\n",
       "      <td>121.407,31.291#121.407,31.292#121.408,31.291#1...</td>\n",
       "      <td>8</td>\n",
       "    </tr>\n",
       "  </tbody>\n",
       "</table>\n",
       "</div>"
      ],
      "text/plain": [
       "   orderid  bikeid  userid        start_time  start_location_x  \\\n",
       "0    78387  158357   10080  2016-08-20 06:57           121.348   \n",
       "1   891333   92776    6605  2016-08-29 19:09           121.508   \n",
       "2  1106623  152045    8876  2016-08-13 16:17           121.383   \n",
       "3  1389484  196259   10648  2016-08-23 21:34           121.484   \n",
       "4   188537   78208   11735  2016-08-16 07:32           121.407   \n",
       "\n",
       "   start_location_y          end_time  end_location_x  end_location_y  \\\n",
       "0            31.389  2016-08-20 07:04         121.357          31.388   \n",
       "1            31.279  2016-08-29 19:31         121.489          31.271   \n",
       "2            31.254  2016-08-13 16:36         121.405          31.248   \n",
       "3            31.320  2016-08-23 21:43         121.471          31.325   \n",
       "4            31.292  2016-08-16 07:41         121.418          31.288   \n",
       "\n",
       "                                               track  spots  \n",
       "0  121.347,31.392#121.348,31.389#121.349,31.390#1...     16  \n",
       "1  121.489,31.270#121.489,31.271#121.490,31.270#1...     36  \n",
       "2  121.381,31.251#121.382,31.251#121.382,31.252#1...     41  \n",
       "3  121.471,31.325#121.472,31.325#121.473,31.324#1...     18  \n",
       "4  121.407,31.291#121.407,31.292#121.408,31.291#1...      8  "
      ]
     },
     "execution_count": 37,
     "metadata": {},
     "output_type": "execute_result"
    }
   ],
   "source": [
    "df_new.head()"
   ]
  },
  {
   "cell_type": "code",
   "execution_count": 38,
   "metadata": {},
   "outputs": [
    {
     "data": {
      "text/plain": [
       "track    121.407,31.291#121.407,31.292#121.408,31.291#1...\n",
       "spots                                                    8\n",
       "Name: 4, dtype: object"
      ]
     },
     "execution_count": 38,
     "metadata": {},
     "output_type": "execute_result"
    }
   ],
   "source": [
    "df_new.iloc[4, 9:11]"
   ]
  },
  {
   "cell_type": "code",
   "execution_count": 39,
   "metadata": {},
   "outputs": [
    {
     "data": {
      "text/plain": [
       "track    121.337,31.151#121.340,31.150\n",
       "spots                                2\n",
       "Name: 10600, dtype: object"
      ]
     },
     "execution_count": 39,
     "metadata": {},
     "output_type": "execute_result"
    }
   ],
   "source": [
    "df_new.iloc[10600, 9:11]"
   ]
  },
  {
   "cell_type": "code",
   "execution_count": 40,
   "metadata": {},
   "outputs": [],
   "source": [
    "path = r\"D:\\Github\\Visualization-with-Tableau\\Mobike Data\\mobike_shanghai_sample_processed.csv\"\n",
    "df_new.to_csv(path)"
   ]
  },
  {
   "cell_type": "code",
   "execution_count": null,
   "metadata": {},
   "outputs": [],
   "source": []
  }
 ],
 "metadata": {
  "kernelspec": {
   "display_name": "Python 3",
   "language": "python",
   "name": "python3"
  },
  "language_info": {
   "codemirror_mode": {
    "name": "ipython",
    "version": 3
   },
   "file_extension": ".py",
   "mimetype": "text/x-python",
   "name": "python",
   "nbconvert_exporter": "python",
   "pygments_lexer": "ipython3",
   "version": "3.6.6"
  }
 },
 "nbformat": 4,
 "nbformat_minor": 2
}
